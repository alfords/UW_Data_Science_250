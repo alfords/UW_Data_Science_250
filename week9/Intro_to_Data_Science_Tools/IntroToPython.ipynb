{
 "cells": [
  {
   "cell_type": "markdown",
   "metadata": {},
   "source": [
    "# An introduction to Python for Data Science"
   ]
  },
  {
   "cell_type": "code",
   "execution_count": null,
   "metadata": {
    "collapsed": false
   },
   "outputs": [],
   "source": [
    "from IPython.display import Image\n",
    "Image(\"http://imgs.xkcd.com/comics/python.png\")"
   ]
  },
  {
   "cell_type": "markdown",
   "metadata": {},
   "source": [
    "## Python Language\n",
    "* General Purpose Programming Language created in 1991\n",
    "* Batteries included\n",
    "   * xml/json/csv parsing\n",
    "   * email sending\n",
    "   * operating system/network programming\n",
    "   * [And more](https://docs.python.org/2/tutorial/stdlib.html)\n",
    "* Often used as a \"Glue\" Language, to tie different processes together.\n",
    "* Popular in Finance, Scientific Computing\n",
    "\n",
    "* Growing Popularity in Data Science/Machine Learning"
   ]
  },
  {
   "cell_type": "markdown",
   "metadata": {},
   "source": [
    "## Why Python for Data Science\n",
    "* General Purpose \n",
    "* Rich and Growing Data Analysis Support\n",
    "* Most Numeric Operations use same linear algebra routines as R/Octave\n",
    "* Easy to Prototype Code, and then scale for \"Production\"\n",
    "* Can call out to R code! Check out the [rpy2](https://pypi.python.org/pypi/rpy2) module\n",
    "* Huge community in the open source world\n",
    "* Commercial Support available\n",
    "    * Enthought\n",
    "    * Continuum"
   ]
  },
  {
   "cell_type": "markdown",
   "metadata": {},
   "source": [
    "## Why Not Python?!\n",
    "* Python 2 or Python 3?\n",
    " * Split in the language a few years that changed some internal language assumptions\n",
    " * I still prefer Python 2...\n",
    " * Most Data Science Libraries are all Python 2, with some supporting Python 3\n",
    " * Figure it out by 2020... :-)\n",
    "* Do you already know R?  Are you productive with R? Are you on a deadline?\n",
    "* Much richer Statistical Modelling community in R.\n",
    "* Greater Breadth of Sciences/Academia writing R packages.\n",
    "    * [CRAN](http://cran.r-project.org/) is a great resource.  For Python checkout [pypi](http://pypi.python.org).\n"
   ]
  },
  {
   "cell_type": "markdown",
   "metadata": {},
   "source": [
    "## Getting Started\n",
    "Caveat! This will not teach as much of the Python Language, but instead show you around some of the tools available for Data Science\n",
    "\n",
    "The first thing to know, is the <b>Zen Of Python</b>"
   ]
  },
  {
   "cell_type": "code",
   "execution_count": null,
   "metadata": {
    "collapsed": false
   },
   "outputs": [],
   "source": [
    "import this"
   ]
  },
  {
   "cell_type": "code",
   "execution_count": null,
   "metadata": {
    "collapsed": false
   },
   "outputs": [],
   "source": [
    "# Each \"Cell\" is a runnable piece of code.\n",
    "# Press <Shift>-<Enter> To execute this cell\n",
    "\n",
    "print \"I'm programming in Python\"\n",
    "\n",
    "# Variable Assignment\n",
    "a = 1 + 1\n",
    "b = 1.0 + 2.0\n",
    "c = a + b\n",
    "print c\n",
    "# Lists\n",
    "# Can be of mixed types\n",
    "l = [a, b, \"a\", \"b\"]\n",
    "\n",
    "# Dictionaries\n",
    "m = {\n",
    "\"Teacher\": \"Ernst\",\n",
    "\"TA\": \"Matt\",\n",
    "\"Class Size\": 42,\n",
    "42: \"Class Size\",\n",
    "}\n",
    "print m[\"TA\"] \n",
    "# Modify a Dictionary Element\n",
    "m[\"TA\"] = \"MGD\"\n",
    "print m[\"TA\"]"
   ]
  },
  {
   "cell_type": "code",
   "execution_count": null,
   "metadata": {
    "collapsed": false
   },
   "outputs": [],
   "source": [
    "# Variables in one cell are available for use in another cell\n",
    "print \"a,b\", a, b\n",
    "\n",
    "print \"len(l)\", len(l) # How long is that list ?\n",
    "\n",
    "print \"l[0]\", l[0]   # Print the FIRST item in the list\n",
    "print \"l[1]\", l[1]   # Print the Second item in the list\n",
    "print \"l[-1]\", l[-1]  # Print the last item in a list\n",
    "\n",
    "# Range Syntax\n",
    "print \"l[0:2]\", l[0:2] # Print The First, Second, and Third items in a list\n",
    "print \"l\", l\n",
    "print \"l[::-1]\", l[::-1]  # What does this do ?  \n",
    "\n",
    "print \"For Loops over lists, and strange math\"\n",
    "for i in l:\n",
    "    print \"{0} * {1} = {2}\".format(i, 10, i * 10)"
   ]
  },
  {
   "cell_type": "code",
   "execution_count": null,
   "metadata": {
    "collapsed": false
   },
   "outputs": [],
   "source": [
    "print \"Let's look at dictionaries\"\n",
    "print \"len(m)\", len(m) # How many entries in that dictionary\n",
    "\n",
    "print \"m\", m  # Printing a dictionary is a bit messy\n",
    "print    # Inserts a blank line\n",
    "\n",
    "# loop over all items in the dictionary in an arbitrary order.  \n",
    "for key, value in m.iteritems():\n",
    "    print \"{0} = {1} ?!?!\".format(key, value)\n",
    "\n",
    "\n",
    "print \"Can we go through the dictionary in order of the keys ?\"\n",
    "for key, value in sorted(m.iteritems()):\n",
    "    print \"{0} = {1} ?!?!\".format(key, value)\n",
    "    "
   ]
  },
  {
   "cell_type": "code",
   "execution_count": null,
   "metadata": {
    "collapsed": false
   },
   "outputs": [],
   "source": [
    "# Python Functions!\n",
    "def some_function(an_argument, another_argument):\n",
    "    # Loop 5 times\n",
    "    for i in range(5):\n",
    "        if i == 1:\n",
    "            print i, an_argument\n",
    "        elif i == 2:\n",
    "            print i, another_argument\n",
    "        else:\n",
    "            print \"Just Pleasantly Waiting\"\n",
    "    return \"All Done\"\n",
    "\n",
    "print some_function(\"Hello\", \"Goodbye\")"
   ]
  },
  {
   "cell_type": "code",
   "execution_count": null,
   "metadata": {
    "collapsed": false
   },
   "outputs": [],
   "source": [
    "a = set([1,2,3,4,1,2,3,4])\n",
    "print \"a\", a\n",
    "b = set([3,5,4,3,4,5])\n",
    "print \"b\", b\n",
    "\n",
    "# Set difference, we may use this tonight\n",
    "print \"a-b\", a - b"
   ]
  },
  {
   "cell_type": "markdown",
   "metadata": {},
   "source": [
    "#### Is your head ready to explode yet?\n",
    "* Another good online [Introduction](https://docs.python.org/2/tutorial/introduction.html)\n",
    "* Other language features to learn as you wish\n",
    "    * [Iterators](https://docs.python.org/2/whatsnew/2.2.html#pep-234-iterators)\n",
    "    * [List Comprehensions](https://docs.python.org/2/whatsnew/2.0.html#list-comprehensions)\n",
    "    * [Generators](https://docs.python.org/2/glossary.html#term-generator)\n",
    "    * [Exceptions](https://docs.python.org/2/tutorial/errors.html)\n",
    "    * [classes](https://docs.python.org/2/tutorial/classes.html)\n",
    "    * [inheritance](https://docs.python.org/2/whatsnew/2.2.html#multiple-inheritance-the-diamond-rule)\n",
    "    * [Abstract base classes](https://docs.python.org/2/whatsnew/2.6.html#pep-3119-abstract-base-classes)\n"
   ]
  },
  {
   "cell_type": "markdown",
   "metadata": {},
   "source": [
    "## Exploring the Data Science Ecosystem\n",
    "\n",
    "### The Data Science Eco System in Python\n",
    "* array operations, statistics, linear algebra: [numpy](http://www.numpy.org/), [scipy](http://www.scipy.org)\n",
    "* DataFrame: [pandas](http://pandas.pydata.org/)\n",
    "* Machine Learning: [scikit-learn](http://scikit-learn.org/stable/)\n",
    "* Plotting: [matplotlib](http://matplotlib.org/), also [Bokeh](http://bokeh.pydata.org/en/latest/), and [seaborn](http://stanford.edu/~mwaskom/software/seaborn/)\n",
    "* Statistical models: [statsmodels](http://statsmodels.sourceforge.net/)\n",
    "* Graphs/networks: [networkx](https://networkx.github.io/)\n",
    "* Workbench: [ipython](http://ipython.org/)\n",
    "\n",
    "### Plus the rest of the Python ecosystem\n",
    "* [Django](https://www.djangoproject.com/)/[Flask](http://flask.pocoo.org/): Web sites\n",
    "* [Jinja](http://jinja.pocoo.org/): Text formatting/templating\n",
    "* [nose](https://nose.readthedocs.org/en/latest/): software testing\n",
    "* [astroml](http://www.astroml.org/): All about Astronomy \n",
    "  * Cool Binning Algorithm [Bayesian Blocks](http://www.astroml.org/examples/algorithms/plot_bayesian_blocks.html)\n",
    "* [SQLAlchemy](http://www.sqlalchemy.org/): Database connections\n",
    "* [Impyla](https://github.com/cloudera/impyla): Connecting to Hadoop/Impala\n",
    "\n",
    "See more at the [PyPi(Python Package Index)](https://pypi.python.org/pypi)!\n",
    "\n"
   ]
  },
  {
   "cell_type": "markdown",
   "metadata": {},
   "source": [
    "## iPython Notebook\n",
    "* Interactive, Web Based Development Environment for Python\n",
    "* Being Used for reproducible science\n",
    "    * Being used for creating/writing academic papers \n",
    "    * Everyone remember the funny video's Ernst played about Data Quality and Data Dictionaries!?\n",
    "* Work is underway to expand the notebook for other programming languages\n",
    " * Julia\n",
    " * Haskell\n",
    " * bash\n",
    " * R\n",
    " * More!\n",
    "* Some Great Example Notebooks\n",
    " * [Collection of notebook examples](https://github.com/ipython/ipython/wiki/A-gallery-of-interesting-IPython-Notebooks)\n",
    " * [Travelling Salesman Problem in Python](http://nbviewer.ipython.org/url/norvig.com/ipython/TSPv3.ipynb)"
   ]
  },
  {
   "cell_type": "code",
   "execution_count": null,
   "metadata": {
    "collapsed": false
   },
   "outputs": [],
   "source": [
    "# This hack will install a nifty plotting library\n",
    "# that helps make pretty plots.\n",
    "\n",
    "# From within the notebook, you can run shell commands on your computer!\n",
    "!pip install seaborn astroML"
   ]
  },
  {
   "cell_type": "code",
   "execution_count": null,
   "metadata": {
    "collapsed": false
   },
   "outputs": [],
   "source": [
    "# If the above didn't work, try this ugly hack\n",
    "import sys\n",
    "for package in [\"seaborn\", \"astroML\"]:\n",
    "    sys.argv = [\"pip\", \"install\", package]\n",
    "    import pip\n",
    "    pip.main()"
   ]
  },
  {
   "cell_type": "code",
   "execution_count": null,
   "metadata": {
    "collapsed": false
   },
   "outputs": [],
   "source": [
    "# Loading the python libraries we will need for today!\n",
    "\n",
    "import pandas as pd  # Can now refere to pandas as \"pd\".  Convenience.\n",
    "import sklearn\n",
    "import matplotlib.pyplot as plt\n",
    "import seaborn as sns\n",
    "# Set up our session for interactive plotting.  (There's a config file knob somewhere I always forget to set)\n",
    "%matplotlib inline"
   ]
  },
  {
   "cell_type": "markdown",
   "metadata": {},
   "source": [
    "### Want to get help while using ipython ?\n",
    "Type the name of the function, and then a question mark.  Interactive help pops up!\n",
    "\n",
    "### Want to see what methods an object supports ?\n",
    "Type the \".\" and hit \"<tab>\"\n"
   ]
  },
  {
   "cell_type": "code",
   "execution_count": null,
   "metadata": {
    "collapsed": false
   },
   "outputs": [],
   "source": [
    "# Read the documentaiton on read_csv\n",
    "pd.read_csv?"
   ]
  },
  {
   "cell_type": "code",
   "execution_count": null,
   "metadata": {
    "collapsed": false
   },
   "outputs": [],
   "source": [
    "# Read the documentation on the dataframe\n",
    "pd.DataFrame?"
   ]
  },
  {
   "cell_type": "code",
   "execution_count": null,
   "metadata": {
    "collapsed": false
   },
   "outputs": [],
   "source": [
    "# See what methods a dataframe supports, but placing your cursor on the right below, and presssing tab\n",
    "pd.DataFrame.abs?"
   ]
  },
  {
   "cell_type": "markdown",
   "metadata": {},
   "source": [
    "### Let's load some data!\n",
    "We'll be using the [ILDP](https://archive.ics.uci.edu/ml/datasets/ILPD+%28Indian+Liver+Patient+Dataset%29) Dataset from homework 2\n",
    "\n",
    "####Dataset description\n",
    "1. Age Age of the patient\n",
    "2. Gender Gender of the patient\n",
    "3. TB Total Bilirubin\n",
    "4. DB Direct Bilirubin\n",
    "5. Alkphos Alkaline Phosphotase\n",
    "6. Sgpt Alamine Aminotransferase\n",
    "7. Sgot Aspartate Aminotransferase\n",
    "8. TP Total Protiens\n",
    "9. ALB Albumin\n",
    "10. A/G Ratio Albumin and Globulin Ratio\n",
    "11. Selector field used to split the data into two sets (labeled by the experts) "
   ]
  },
  {
   "cell_type": "code",
   "execution_count": null,
   "metadata": {
    "collapsed": false
   },
   "outputs": [],
   "source": [
    "names = [\"Age\", \"Gender\", \"TB\", \"DB\", \"Alkphos\", \"Sgpt\", \"Sgot\", \"TP\", \"ALB\", \"A/G\", \"Selector\"]"
   ]
  },
  {
   "cell_type": "code",
   "execution_count": null,
   "metadata": {
    "collapsed": false
   },
   "outputs": [],
   "source": [
    "# Read Data into a DataFrame\n",
    "# Support for reading a local file, website, etc\n",
    "#frame = pd.read_csv(\"http://archive.ics.uci.edu/ml/machine-learning-databases/00225/Indian%20Liver%20Patient%20Dataset%20(ILPD).csv\")\n",
    "frame = pd.read_csv(\"http://archive.ics.uci.edu/ml/machine-learning-databases/00225/Indian%20Liver%20Patient%20Dataset%20(ILPD).csv\", header=False, names=names)\n"
   ]
  },
  {
   "cell_type": "code",
   "execution_count": null,
   "metadata": {
    "collapsed": false
   },
   "outputs": [],
   "source": [
    "#TODO: What other pandas read methods are there? \n",
    "# pd.read<TAB>\n",
    "# How do they work ?\n",
    "pd.read_gbq?"
   ]
  },
  {
   "cell_type": "code",
   "execution_count": null,
   "metadata": {
    "collapsed": false
   },
   "outputs": [],
   "source": [
    "# Shape of the dataset, (Row, Columns)\n",
    "frame.shape"
   ]
  },
  {
   "cell_type": "code",
   "execution_count": null,
   "metadata": {
    "collapsed": false
   },
   "outputs": [],
   "source": [
    "# Deterine the types of variables... object == str.\n",
    "frame.dtypes"
   ]
  },
  {
   "cell_type": "code",
   "execution_count": null,
   "metadata": {
    "collapsed": false
   },
   "outputs": [],
   "source": [
    "frame.tail(10) "
   ]
  },
  {
   "cell_type": "code",
   "execution_count": null,
   "metadata": {
    "collapsed": false
   },
   "outputs": [],
   "source": [
    "frame.describe?"
   ]
  },
  {
   "cell_type": "code",
   "execution_count": null,
   "metadata": {
    "collapsed": false
   },
   "outputs": [],
   "source": [
    "# Summary Statistics of numerical variables...\n",
    "frame.describe()"
   ]
  },
  {
   "cell_type": "code",
   "execution_count": null,
   "metadata": {
    "collapsed": false
   },
   "outputs": [],
   "source": [
    "## Accessing only one column:\n",
    "print frame[\"Age\"].describe()\n",
    "\n",
    "# or accessing two columns\n",
    "print frame[[\"Age\", \"TP\" ]].head()"
   ]
  },
  {
   "cell_type": "code",
   "execution_count": null,
   "metadata": {
    "collapsed": false
   },
   "outputs": [],
   "source": [
    "# Gender - it is an object, so let's count occurences of each unique value\n",
    "frame[\"Gender\"].value_counts()"
   ]
  },
  {
   "cell_type": "code",
   "execution_count": null,
   "metadata": {
    "collapsed": false
   },
   "outputs": [],
   "source": [
    "type(frame[\"Gender\"].value_counts())"
   ]
  },
  {
   "cell_type": "markdown",
   "metadata": {},
   "source": [
    "## Data Cleansing\n",
    "\n",
    "If you remember from homework 2, we dealt with some data cleansing tasks.\n",
    "Dropping Nulls is easy"
   ]
  },
  {
   "cell_type": "code",
   "execution_count": null,
   "metadata": {
    "collapsed": false
   },
   "outputs": [],
   "source": [
    "frame.isnull().sum()"
   ]
  },
  {
   "cell_type": "code",
   "execution_count": null,
   "metadata": {
    "collapsed": false
   },
   "outputs": [],
   "source": [
    "frame.dropna().describe()"
   ]
  },
  {
   "cell_type": "code",
   "execution_count": null,
   "metadata": {
    "collapsed": false
   },
   "outputs": [],
   "source": [
    "# To modify the dataframe in place, add inplace=True\n",
    "frame.dropna(inplace=True)"
   ]
  },
  {
   "cell_type": "markdown",
   "metadata": {},
   "source": [
    "## Visualizing the Data"
   ]
  },
  {
   "cell_type": "code",
   "execution_count": null,
   "metadata": {
    "collapsed": false
   },
   "outputs": [],
   "source": [
    "frame[\"Gender\"].value_counts().plot?"
   ]
  },
  {
   "cell_type": "code",
   "execution_count": null,
   "metadata": {
    "collapsed": true
   },
   "outputs": [],
   "source": [
    "frame[\"Gender\"].value_counts().plot"
   ]
  },
  {
   "cell_type": "code",
   "execution_count": null,
   "metadata": {
    "collapsed": false
   },
   "outputs": [],
   "source": [
    "frame[\"Gender\"].value_counts().plot"
   ]
  },
  {
   "cell_type": "code",
   "execution_count": null,
   "metadata": {
    "collapsed": false
   },
   "outputs": [],
   "source": [
    "# Histogram of Gender \n",
    "frame[\"Gender\"].value_counts().plot(kind=\"bar\")"
   ]
  },
  {
   "cell_type": "code",
   "execution_count": null,
   "metadata": {
    "collapsed": false
   },
   "outputs": [],
   "source": [
    "# Histograms of all of the variables!\n",
    "# frame.hist() returns an array of all of the plots.  We use the \"_\" to ignore the return value\n",
    "_ = frame.hist( figsize=(15,15))"
   ]
  },
  {
   "cell_type": "code",
   "execution_count": null,
   "metadata": {
    "collapsed": false
   },
   "outputs": [],
   "source": [
    "# TODO: Better bin sizes for all plots?\n",
    "\n"
   ]
  },
  {
   "cell_type": "code",
   "execution_count": null,
   "metadata": {
    "collapsed": false
   },
   "outputs": [],
   "source": [
    "# TODO:  Plot a histogram of Two Columns\n",
    "# TODO:  Experiment with different bins, what looks good ?"
   ]
  },
  {
   "cell_type": "code",
   "execution_count": null,
   "metadata": {
    "collapsed": false
   },
   "outputs": [],
   "source": [
    "# Let's look at Ages again.  The variable is an integer...\n",
    "frame[\"Age\"].hist(bins=20, figsize=(12,5))"
   ]
  },
  {
   "cell_type": "code",
   "execution_count": null,
   "metadata": {
    "collapsed": false
   },
   "outputs": [],
   "source": [
    "# Another way to plot a histogram, which works for integers\n",
    "ages = frame[\"Age\"].value_counts()\n",
    "ages.plot(kind=\"bar\", figsize=(12,5))"
   ]
  },
  {
   "cell_type": "code",
   "execution_count": null,
   "metadata": {
    "collapsed": false
   },
   "outputs": [],
   "source": [
    "# This is a bit better histogram,\n",
    "ages = frame[\"Age\"].value_counts().sort_index()\n",
    "ages.plot(kind=\"bar\", figsize=(12,5))"
   ]
  },
  {
   "cell_type": "markdown",
   "metadata": {},
   "source": [
    "### One Last Fun Bin Technique for Histograms: Bayesian Blocks Binning\n",
    "Use a dynamic algorithm to determine the bins that best describe the data set.  The bins do not have uniform width, but instead adapt to the distribution of the data.\n",
    "\n",
    "* [Astronomical Paper](http://adsabs.harvard.edu/abs/2012arXiv1207.5578S)\n",
    "* [Easier Introduction to the above](http://www.astroml.org/examples/algorithms/plot_bayesian_blocks.html)"
   ]
  },
  {
   "cell_type": "code",
   "execution_count": null,
   "metadata": {
    "collapsed": false
   },
   "outputs": [],
   "source": [
    "from astroML.plotting import hist"
   ]
  },
  {
   "cell_type": "code",
   "execution_count": null,
   "metadata": {
    "collapsed": false
   },
   "outputs": [],
   "source": [
    "f, ax = plt.subplots(figsize=(10, 5))\n",
    "counts, edges, plot_objects = hist(frame[\"A/G\"], bins=\"blocks\", ax=ax)\n",
    "_ = ax.set_xticks(edges)\n",
    "_ = ax.set_xticklabels(edges, rotation=45)"
   ]
  },
  {
   "cell_type": "code",
   "execution_count": null,
   "metadata": {
    "collapsed": false
   },
   "outputs": [],
   "source": [
    "print edges"
   ]
  },
  {
   "cell_type": "code",
   "execution_count": null,
   "metadata": {
    "collapsed": false,
    "scrolled": false
   },
   "outputs": [],
   "source": [
    "for column in frame.columns:\n",
    "    if column == \"Gender\" or column == \"Selector\":\n",
    "        continue\n",
    "    f, ax = plt.subplots(figsize=(10, 5))\n",
    "    # Plot a regular histogram\n",
    "    hist(frame[column], bins=20, histtype='stepfilled', ax=ax,  alpha=0.4,  color=\"blue\", label='standard histogram')\n",
    "    # Overlay the Bayesian Blocks outline\n",
    "    counts, edges, plot_objects = hist(frame[column], bins=\"blocks\",  color=\"black\", ax=ax, linewidth=2, histtype='step', label=\"Bayesian blocks\")\n",
    "    # Toss on a legend, title, and have reasonable xlabels.\n",
    "    ax.legend()\n",
    "    ax.set_title(column, size=16)\n",
    "    _ = ax.set_xticks(edges)\n",
    "    _ = ax.set_xticklabels(edges, rotation=45)"
   ]
  },
  {
   "cell_type": "markdown",
   "metadata": {},
   "source": [
    "### Outlier Removal\n",
    "\n",
    "SGOT: Remove Everything greater than 2 standard deviations away from the mean"
   ]
  },
  {
   "cell_type": "code",
   "execution_count": null,
   "metadata": {
    "collapsed": false
   },
   "outputs": [],
   "source": [
    "frame[\"Sgot\"].hist(bins=30)"
   ]
  },
  {
   "cell_type": "code",
   "execution_count": null,
   "metadata": {
    "collapsed": false
   },
   "outputs": [],
   "source": [
    "sgot = frame[\"Sgot\"].describe()\n",
    "print sgot"
   ]
  },
  {
   "cell_type": "code",
   "execution_count": null,
   "metadata": {
    "collapsed": false
   },
   "outputs": [],
   "source": [
    "# \n",
    "high_limit = sgot[\"mean\"] + 2 * sgot[\"std\"]\n",
    "\n",
    "print \"Sgot high limit is \", high_limit\n",
    "boolean_series = frame[\"Sgot\"] < high_limit\n",
    "print boolean_series"
   ]
  },
  {
   "cell_type": "code",
   "execution_count": null,
   "metadata": {
    "collapsed": false
   },
   "outputs": [],
   "source": [
    "frame = frame[boolean_indexer]\n",
    "frame[\"Sgot\"].describe()"
   ]
  },
  {
   "cell_type": "code",
   "execution_count": null,
   "metadata": {
    "collapsed": false
   },
   "outputs": [],
   "source": [
    "#TODO: Do the same for Sgot\n"
   ]
  },
  {
   "cell_type": "markdown",
   "metadata": {},
   "source": [
    "## Data Exploration, Visualization"
   ]
  },
  {
   "cell_type": "markdown",
   "metadata": {},
   "source": [
    "### Scatter plots of all pairwise relationships"
   ]
  },
  {
   "cell_type": "code",
   "execution_count": null,
   "metadata": {
    "collapsed": false
   },
   "outputs": [],
   "source": [
    "frame.describe()"
   ]
  },
  {
   "cell_type": "code",
   "execution_count": null,
   "metadata": {
    "collapsed": false
   },
   "outputs": [],
   "source": [
    "sns.pairplot?"
   ]
  },
  {
   "cell_type": "code",
   "execution_count": null,
   "metadata": {
    "collapsed": false
   },
   "outputs": [],
   "source": [
    "sns.pairplot(frame, hue=\"Selector\", size=2.5)\n",
    "\n",
    "# Could also plot with hue=\"Gender\", or hue=\"Age\", or any discrete features"
   ]
  },
  {
   "cell_type": "code",
   "execution_count": null,
   "metadata": {
    "collapsed": false
   },
   "outputs": [],
   "source": [
    "# TODO: What variables look the most interesting?  Can you produce a pairwise plot with just those columns?\n",
    "sns.pairplot(frame[[\"TB\", \"DB\", \"Age\"]], hue=\"Age\")"
   ]
  },
  {
   "cell_type": "markdown",
   "metadata": {},
   "source": [
    "## Back To DataFrames\n",
    "### Selecting Rows:"
   ]
  },
  {
   "cell_type": "code",
   "execution_count": null,
   "metadata": {
    "collapsed": false
   },
   "outputs": [],
   "source": [
    "dudes = frame[frame[\"Gender\"] == \"Male\"]"
   ]
  },
  {
   "cell_type": "code",
   "execution_count": null,
   "metadata": {
    "collapsed": false
   },
   "outputs": [],
   "source": [
    "## Selecting Age Ranges\n",
    "whipper_snappers = frame[(frame[\"Age\"] < 30) & (frame[\"Age\"] > 20)]\n",
    "whipper_snappers.head()"
   ]
  },
  {
   "cell_type": "code",
   "execution_count": null,
   "metadata": {
    "collapsed": false
   },
   "outputs": [],
   "source": [
    "whipper_snappers.describe()"
   ]
  },
  {
   "cell_type": "code",
   "execution_count": null,
   "metadata": {
    "collapsed": false
   },
   "outputs": [],
   "source": [
    "#TODO:\n",
    "# How to select all Females > 50 ?"
   ]
  },
  {
   "cell_type": "markdown",
   "metadata": {},
   "source": [
    "### Randomly selecting rows\n",
    "To create a training set, and a test set ?"
   ]
  },
  {
   "cell_type": "code",
   "execution_count": null,
   "metadata": {
    "collapsed": false
   },
   "outputs": [],
   "source": [
    "import numpy.random \n"
   ]
  },
  {
   "cell_type": "code",
   "execution_count": null,
   "metadata": {
    "collapsed": false
   },
   "outputs": [],
   "source": [
    "num_rows = frame.shape[0]\n",
    "training_indices = numpy.random.choice(frame.index,num_rows * .6, replace=False)\n",
    "test_indices = set(frame.index) - set(training_indices)"
   ]
  },
  {
   "cell_type": "code",
   "execution_count": null,
   "metadata": {
    "collapsed": false
   },
   "outputs": [],
   "source": [
    "print \"Training set is \", len(training_indices), \"items, and is type\", type(training_indices)\n",
    "print \"Test set is     \", len(test_indices), \"items, and is type\", type(test_indices)"
   ]
  },
  {
   "cell_type": "code",
   "execution_count": null,
   "metadata": {
    "collapsed": false
   },
   "outputs": [],
   "source": [
    "training = frame.ix[training_indices]\n",
    "training.head()"
   ]
  },
  {
   "cell_type": "code",
   "execution_count": null,
   "metadata": {
    "collapsed": false
   },
   "outputs": [],
   "source": [
    "testing = frame.ix[test_indices]\n",
    "testing.head()"
   ]
  },
  {
   "cell_type": "markdown",
   "metadata": {},
   "source": [
    "<b>Q: This is Python, there is a library that does this somewhere - shouldn't I be using that ?!</b>\n",
    "\n",
    "<i>A: YES! (but you should also know how it works)</i>"
   ]
  },
  {
   "cell_type": "code",
   "execution_count": null,
   "metadata": {
    "collapsed": false
   },
   "outputs": [],
   "source": [
    "from sklearn.cross_validation import train_test_split"
   ]
  },
  {
   "cell_type": "code",
   "execution_count": null,
   "metadata": {
    "collapsed": false
   },
   "outputs": [],
   "source": [
    "train_test_split??"
   ]
  },
  {
   "cell_type": "code",
   "execution_count": null,
   "metadata": {
    "collapsed": false
   },
   "outputs": [],
   "source": [
    "training_data, testing_data = train_test_split(frame, test_size=.4)"
   ]
  },
  {
   "cell_type": "code",
   "execution_count": null,
   "metadata": {
    "collapsed": false
   },
   "outputs": [],
   "source": [
    "training_data.shape"
   ]
  },
  {
   "cell_type": "code",
   "execution_count": null,
   "metadata": {
    "collapsed": false
   },
   "outputs": [],
   "source": [
    "testing_data.shape"
   ]
  },
  {
   "cell_type": "markdown",
   "metadata": {},
   "source": [
    "## Double Bonus, more plotting\n",
    "### Correlation between variables"
   ]
  },
  {
   "cell_type": "code",
   "execution_count": null,
   "metadata": {
    "collapsed": false
   },
   "outputs": [],
   "source": [
    "sns.corrplot??"
   ]
  },
  {
   "cell_type": "code",
   "execution_count": null,
   "metadata": {
    "collapsed": false
   },
   "outputs": [],
   "source": [
    "f, ax = plt.subplots(figsize=(10, 10))\n",
    "_ = sns.corrplot(frame, annot=True,  diag_names=False, ax=ax)"
   ]
  },
  {
   "cell_type": "markdown",
   "metadata": {},
   "source": [
    "#### TODO: What does the above correlation graph tell you ?"
   ]
  },
  {
   "cell_type": "markdown",
   "metadata": {},
   "source": [
    "### Closer look at a single pair of variables"
   ]
  },
  {
   "cell_type": "code",
   "execution_count": null,
   "metadata": {
    "collapsed": false
   },
   "outputs": [],
   "source": [
    "sns.jointplot?"
   ]
  },
  {
   "cell_type": "code",
   "execution_count": null,
   "metadata": {
    "collapsed": false
   },
   "outputs": [],
   "source": [
    "sns.jointplot(frame[\"TB\"], frame[\"DB\"], kind=\"reg\")"
   ]
  },
  {
   "cell_type": "markdown",
   "metadata": {},
   "source": [
    "### Mulitple Linear Regressions."
   ]
  },
  {
   "cell_type": "code",
   "execution_count": null,
   "metadata": {
    "collapsed": false
   },
   "outputs": [],
   "source": [
    "g = sns.lmplot(\"ALB\", \"A/G\", hue=\"Selector\", data=frame,\n",
    "                size=6)"
   ]
  },
  {
   "cell_type": "markdown",
   "metadata": {},
   "source": [
    "### Want More ? Look Here!\n",
    "* [Python.org](http://www.python.org) Language Homepage. Where else?\n",
    "* [pydata.org](http://www.pydata.org) One home of a large group of data scientists\n",
    " * [Seattle PyData Conference](http://seattle.pydata.org/) Coming this summer! July 24th - 26th)\n",
    " * [David Beazley's Homepage](http://www.dabeaz.com/) The best teacher I've found for beginning to advanced python.\n",
    "    * Book Recommendation <u>Python Essential Reference (4th Edition)</u> (aka The Castle Book)\n",
    "* [Python Parambulations](https://jakevdp.github.io/)  Lengthly posts describing using Python for Science."
   ]
  },
  {
   "cell_type": "code",
   "execution_count": null,
   "metadata": {
    "collapsed": false
   },
   "outputs": [],
   "source": []
  }
 ],
 "metadata": {
  "kernelspec": {
   "display_name": "Python 2",
   "language": "python",
   "name": "python2"
  },
  "language_info": {
   "codemirror_mode": {
    "name": "ipython",
    "version": 2
   },
   "file_extension": ".py",
   "mimetype": "text/x-python",
   "name": "python",
   "nbconvert_exporter": "python",
   "pygments_lexer": "ipython2",
   "version": "2.7.9"
  }
 },
 "nbformat": 4,
 "nbformat_minor": 0
}
